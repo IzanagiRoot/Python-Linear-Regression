{
  "nbformat": 4,
  "nbformat_minor": 0,
  "metadata": {
    "colab": {
      "name": "Gender_classification.ipynb",
      "provenance": [],
      "collapsed_sections": [],
      "include_colab_link": true
    },
    "kernelspec": {
      "name": "python3",
      "display_name": "Python 3"
    }
  },
  "cells": [
    {
      "cell_type": "markdown",
      "metadata": {
        "id": "view-in-github",
        "colab_type": "text"
      },
      "source": [
        "<a href=\"https://colab.research.google.com/github/IzanagiRoot/Python-Linear-Regression/blob/master/Gender_classification.ipynb\" target=\"_parent\"><img src=\"https://colab.research.google.com/assets/colab-badge.svg\" alt=\"Open In Colab\"/></a>"
      ]
    },
    {
      "cell_type": "code",
      "metadata": {
        "id": "2QGgseEEuiMa",
        "colab_type": "code",
        "colab": {}
      },
      "source": [
        "import os\n",
        "import pandas as pd\n",
        "import numpy as np\n",
        "from io import BytesIO\n",
        "from zipfile import ZipFile\n",
        "import requests\n",
        "import scipy\n",
        "import matplotlib.pyplot as plt\n",
        "from scipy import signal\n",
        "import cv2\n",
        "from sklearn.model_selection import train_test_split\n",
        "from sklearn.svm import SVC\n",
        "from sklearn import metrics\n",
        "from sklearn.model_selection import cross_val_score\n",
        "\n",
        "from skimage.feature import hog\n",
        "from skimage.color import rgb2grey\n",
        "\n",
        "from sklearn.model_selection import GridSearchCV\n",
        "from sklearn.metrics import classification_report\n",
        "from sklearn.exceptions import UndefinedMetricWarning\n",
        "\n",
        "import warnings"
      ],
      "execution_count": 0,
      "outputs": []
    },
    {
      "cell_type": "code",
      "metadata": {
        "id": "p_cyiDGOu2WX",
        "colab_type": "code",
        "colab": {}
      },
      "source": [
        "url = \"https://github.com/IzanagiRoot/Python-Linear-Regression/raw/master/faces94.zip\"\n",
        "\n",
        "# Extract Zip file and store content in datasets folder\n",
        "content = requests.get(url)\n",
        "zf = ZipFile(BytesIO(content.content))\n",
        "zf.extractall(\"datasets_V2\")\n",
        "labels = pd.read_csv(zf.open(\"faces94/labels.csv\"))\n",
        "zf.close()"
      ],
      "execution_count": 0,
      "outputs": []
    },
    {
      "cell_type": "code",
      "metadata": {
        "id": "PJBdlhQzu4C1",
        "colab_type": "code",
        "colab": {}
      },
      "source": [
        "def get_image(row_id, root=\"datasets_V2/faces94/\"):\n",
        "  \n",
        "  filename = \"{}.jpg\".format(row_id)\n",
        "  file_path = os.path.join(root, filename)\n",
        "  #img = Image.open(file_path)\n",
        "  dim = (64,64)\n",
        "  img = cv2.imread(file_path,0)\n",
        "  resized_img = cv2.resize(img, dim, interpolation = cv2.INTER_AREA)\n",
        "  return dct2(resized_img)"
      ],
      "execution_count": 0,
      "outputs": []
    },
    {
      "cell_type": "code",
      "metadata": {
        "id": "DPcTWzWCvD8F",
        "colab_type": "code",
        "colab": {}
      },
      "source": [
        "def dct2(a):\n",
        "    return scipy.fftpack.dct( a, type=2,norm='ortho' )"
      ],
      "execution_count": 0,
      "outputs": []
    },
    {
      "cell_type": "code",
      "metadata": {
        "id": "Np8RygnuvKG9",
        "colab_type": "code",
        "colab": {}
      },
      "source": [
        "def create_features(img):\n",
        "    # convert image to greyscale\n",
        "    grey_image = rgb2grey(img)\n",
        "    # get HOG features from greyscale image\n",
        "    hog_features = hog(grey_image, block_norm='L2-Hys', pixels_per_cell=(16, 16))\n",
        "    # combine color and hog features into a single array\n",
        "    flat_features = np.hstack(hog_features)\n",
        "    return flat_features"
      ],
      "execution_count": 0,
      "outputs": []
    },
    {
      "cell_type": "code",
      "metadata": {
        "id": "abIHPBbBvVI1",
        "colab_type": "code",
        "colab": {}
      },
      "source": [
        "def create_feature_matrix(label_dataframe):\n",
        "    features_list = []\n",
        "    for img_id in label_dataframe.Name:\n",
        "        # load image\n",
        "        img = get_image(img_id)\n",
        "        # get features for image\n",
        "        image_features = create_features(img)\n",
        "        features_list.append(image_features)\n",
        "    # convert list of arrays into a matrix\n",
        "    feature_matrix = np.array(features_list)\n",
        "    return feature_matrix\n",
        "\n",
        "# run create_feature_matrix on our dataframe of images\n",
        "feature_matrix = create_feature_matrix(labels)"
      ],
      "execution_count": 0,
      "outputs": []
    },
    {
      "cell_type": "code",
      "metadata": {
        "id": "QpZDzPmWLJdG",
        "colab_type": "code",
        "colab": {
          "base_uri": "https://localhost:8080/",
          "height": 1000
        },
        "outputId": "15e49439-190d-4a3e-84d3-a2ba6c993c71"
      },
      "source": [
        "print(__doc__)\n",
        "\n",
        "# To apply an classifier on this data, we need to flatten the image, to\n",
        "# turn the data in a (samples, feature) matrix:\n",
        "n_samples = len(feature_matrix)\n",
        "X = feature_matrix.reshape((n_samples, -1))\n",
        "y = labels.Class.values\n",
        "\n",
        "# Split the dataset in two equal parts\n",
        "X_train, X_test, y_train, y_test = train_test_split(\n",
        "    X, y, test_size=0.5, random_state=0)\n",
        "\n",
        "# Set the parameters by cross-validation\n",
        "tuned_parameters = [{'kernel': ['rbf'], 'gamma': [1e-3, 1e-4],\n",
        "                     'C': [1, 10, 100, 1000]},\n",
        "                    {'kernel': ['linear'], 'C': [1, 10, 100, 1000]}]\n",
        "\n",
        "scores = ['precision', 'recall']\n",
        "\n",
        "for score in scores:\n",
        "    print(\"# Tuning hyper-parameters for %s\" % score)\n",
        "    print()\n",
        "    with warnings.catch_warnings():\n",
        "            warnings.simplefilter(\"ignore\", category=UndefinedMetricWarning)\n",
        "            clf = GridSearchCV(\n",
        "                SVC(), tuned_parameters,cv=5, scoring='%s_macro' % score\n",
        "            )\n",
        "            clf.fit(X_train, y_train)\n",
        "\n",
        "    print(\"Best parameters set found on development set:\")\n",
        "    print()\n",
        "    print(clf.best_params_)\n",
        "    print()\n",
        "    print(\"Grid scores on development set:\")\n",
        "    print()\n",
        "    means = clf.cv_results_['mean_test_score']\n",
        "    stds = clf.cv_results_['std_test_score']\n",
        "    for mean, std, params in zip(means, stds, clf.cv_results_['params']):\n",
        "        print(\"%0.3f (+/-%0.03f) for %r\"\n",
        "              % (mean, std * 2, params))\n",
        "    print()\n",
        "\n",
        "    print(\"Detailed classification report:\")\n",
        "    print()\n",
        "    print(\"The model is trained on the full development set.\")\n",
        "    print(\"The scores are computed on the full evaluation set.\")\n",
        "    print()\n",
        "    y_true, y_pred = y_test, clf.predict(X_test)\n",
        "    print(classification_report(y_true, y_pred))\n",
        "    print()"
      ],
      "execution_count": 7,
      "outputs": [
        {
          "output_type": "stream",
          "text": [
            "Automatically created module for IPython interactive environment\n",
            "# Tuning hyper-parameters for precision\n",
            "\n",
            "Best parameters set found on development set:\n",
            "\n",
            "{'C': 10, 'kernel': 'linear'}\n",
            "\n",
            "Grid scores on development set:\n",
            "\n",
            "0.436 (+/-0.001) for {'C': 1, 'gamma': 0.001, 'kernel': 'rbf'}\n",
            "0.436 (+/-0.001) for {'C': 1, 'gamma': 0.0001, 'kernel': 'rbf'}\n",
            "0.436 (+/-0.001) for {'C': 10, 'gamma': 0.001, 'kernel': 'rbf'}\n",
            "0.436 (+/-0.001) for {'C': 10, 'gamma': 0.0001, 'kernel': 'rbf'}\n",
            "0.436 (+/-0.001) for {'C': 100, 'gamma': 0.001, 'kernel': 'rbf'}\n",
            "0.436 (+/-0.001) for {'C': 100, 'gamma': 0.0001, 'kernel': 'rbf'}\n",
            "0.968 (+/-0.013) for {'C': 1000, 'gamma': 0.001, 'kernel': 'rbf'}\n",
            "0.436 (+/-0.001) for {'C': 1000, 'gamma': 0.0001, 'kernel': 'rbf'}\n",
            "0.946 (+/-0.006) for {'C': 1, 'kernel': 'linear'}\n",
            "0.978 (+/-0.005) for {'C': 10, 'kernel': 'linear'}\n",
            "0.962 (+/-0.039) for {'C': 100, 'kernel': 'linear'}\n",
            "0.951 (+/-0.058) for {'C': 1000, 'kernel': 'linear'}\n",
            "\n",
            "Detailed classification report:\n",
            "\n",
            "The model is trained on the full development set.\n",
            "The scores are computed on the full evaluation set.\n",
            "\n",
            "              precision    recall  f1-score   support\n",
            "\n",
            "           0       0.97      1.00      0.98      1328\n",
            "           1       0.96      0.81      0.88       202\n",
            "\n",
            "    accuracy                           0.97      1530\n",
            "   macro avg       0.97      0.90      0.93      1530\n",
            "weighted avg       0.97      0.97      0.97      1530\n",
            "\n",
            "\n",
            "# Tuning hyper-parameters for recall\n",
            "\n",
            "Best parameters set found on development set:\n",
            "\n",
            "{'C': 100, 'kernel': 'linear'}\n",
            "\n",
            "Grid scores on development set:\n",
            "\n",
            "0.500 (+/-0.000) for {'C': 1, 'gamma': 0.001, 'kernel': 'rbf'}\n",
            "0.500 (+/-0.000) for {'C': 1, 'gamma': 0.0001, 'kernel': 'rbf'}\n",
            "0.500 (+/-0.000) for {'C': 10, 'gamma': 0.001, 'kernel': 'rbf'}\n",
            "0.500 (+/-0.000) for {'C': 10, 'gamma': 0.0001, 'kernel': 'rbf'}\n",
            "0.500 (+/-0.000) for {'C': 100, 'gamma': 0.001, 'kernel': 'rbf'}\n",
            "0.500 (+/-0.000) for {'C': 100, 'gamma': 0.0001, 'kernel': 'rbf'}\n",
            "0.771 (+/-0.100) for {'C': 1000, 'gamma': 0.001, 'kernel': 'rbf'}\n",
            "0.500 (+/-0.000) for {'C': 1000, 'gamma': 0.0001, 'kernel': 'rbf'}\n",
            "0.594 (+/-0.052) for {'C': 1, 'kernel': 'linear'}\n",
            "0.905 (+/-0.075) for {'C': 10, 'kernel': 'linear'}\n",
            "0.952 (+/-0.076) for {'C': 100, 'kernel': 'linear'}\n",
            "0.950 (+/-0.055) for {'C': 1000, 'kernel': 'linear'}\n",
            "\n",
            "Detailed classification report:\n",
            "\n",
            "The model is trained on the full development set.\n",
            "The scores are computed on the full evaluation set.\n",
            "\n",
            "              precision    recall  f1-score   support\n",
            "\n",
            "           0       0.98      0.99      0.98      1328\n",
            "           1       0.90      0.88      0.89       202\n",
            "\n",
            "    accuracy                           0.97      1530\n",
            "   macro avg       0.94      0.93      0.94      1530\n",
            "weighted avg       0.97      0.97      0.97      1530\n",
            "\n",
            "\n"
          ],
          "name": "stdout"
        }
      ]
    },
    {
      "cell_type": "code",
      "metadata": {
        "id": "u8Hdda_Pvjtd",
        "colab_type": "code",
        "colab": {
          "base_uri": "https://localhost:8080/",
          "height": 72
        },
        "outputId": "0a9fcfd9-0907-4c66-8f4c-219f6bdd6666"
      },
      "source": [
        "X = pd.DataFrame(feature_matrix)\n",
        "y = pd.Series(labels.Class.values)\n",
        "X_train, X_test, y_train, y_test = train_test_split(X,\n",
        "                                                    y,\n",
        "                                                    test_size=.3,\n",
        "                                                    random_state=1234123)\n",
        "# define support vector classifier\n",
        "model = SVC(kernel='linear', C = 10, probability= True)\n",
        "#clf = SVC(kernel='rbf',C = 1000, gamma=0.001)\n",
        "# fit model\n",
        "model.fit(X_train, y_train)\n",
        "\n",
        "# calculate 5-Cross-Validation\n",
        "#scores = cross_val_score(clf, X, y, cv=2)\n",
        "#print(\"Accuracy 5-Cross-Validation: %0.2f (+/- %0.2f)\" % (scores.mean(), scores.std() * 2))\n",
        "\n",
        "#Predict the response for test dataset\n",
        "y_pred = model.predict(X_test)\n",
        "# Model Accuracy: how often is the classifier correct?\n",
        "print(\"Accuracy:\",metrics.accuracy_score(y_test, y_pred))\n",
        "print(\"Precision:\",metrics.precision_score(y_test, y_pred))\n",
        "print(\"Recall:\",metrics.recall_score(y_test, y_pred))"
      ],
      "execution_count": 8,
      "outputs": [
        {
          "output_type": "stream",
          "text": [
            "Accuracy: 0.9738562091503268\n",
            "Precision: 0.9652173913043478\n",
            "Recall: 0.8473282442748091\n"
          ],
          "name": "stdout"
        }
      ]
    },
    {
      "cell_type": "code",
      "metadata": {
        "id": "40NakI-Hv_nF",
        "colab_type": "code",
        "colab": {
          "base_uri": "https://localhost:8080/",
          "height": 295
        },
        "outputId": "a7385b00-b166-4ba6-8e1b-db8a2e463ce4"
      },
      "source": [
        "# predict probabilities for X_test using predict_proba\n",
        "probabilities = model.predict_proba(X_test)\n",
        "\n",
        "# select the probabilities for label 1.0\n",
        "y_proba = probabilities[:, 1]\n",
        "\n",
        "# calculate false positive rate and true positive rate at different thresholds\n",
        "false_positive_rate, true_positive_rate, thresholds = metrics.roc_curve(y_test, y_proba, pos_label=1)\n",
        "\n",
        "# calculate AUC\n",
        "roc_auc = metrics.auc(false_positive_rate, true_positive_rate)\n",
        "\n",
        "plt.title('Receiver Operating Characteristic')\n",
        "# plot the false positive rate on the x axis and the true positive rate on the y axis\n",
        "roc_plot = plt.plot(false_positive_rate,\n",
        "                    true_positive_rate,\n",
        "                    label='AUC = {:0.2f}'.format(roc_auc))\n",
        "\n",
        "plt.legend(loc=0)\n",
        "plt.plot([0,1], [0,1], ls='--')\n",
        "plt.ylabel('True Positive Rate')\n",
        "plt.xlabel('False Positive Rate')  ;"
      ],
      "execution_count": 9,
      "outputs": [
        {
          "output_type": "display_data",
          "data": {
            "image/png": "[encoded data removed]",
            "text/plain": [
              "<Figure size 432x288 with 1 Axes>"
            ]
          },
          "metadata": {
            "tags": []
          }
        }
      ]
    },
    {
      "cell_type": "code",
      "metadata": {
        "id": "yqdCpdWdwzih",
        "colab_type": "code",
        "colab": {}
      },
      "source": [
        "# Let's export model\n",
        "import pickle\n",
        "pickle.dump(model, open('gender_model.pkl', 'wb'))\n",
        "from google.colab import files"
      ],
      "execution_count": 0,
      "outputs": []
    },
    {
      "cell_type": "code",
      "metadata": {
        "id": "uxILfociU9fe",
        "colab_type": "code",
        "colab": {}
      },
      "source": [
        "files.download('gender_model.pkl')"
      ],
      "execution_count": 0,
      "outputs": []
    }
  ]
}